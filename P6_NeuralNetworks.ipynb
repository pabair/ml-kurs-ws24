{
 "cells": [
  {
   "cell_type": "markdown",
   "metadata": {
    "id": "TOBUyiZq3d2u"
   },
   "source": [
    "# Praktische Übung 6: Neural Networks"
   ]
  },
  {
   "cell_type": "markdown",
   "metadata": {},
   "source": [
    "In this exercise, we want to train a neural network on the Digits dataset, that we already used earlier.\n",
    "Go through the following steps:\n",
    "\n",
    "1. Read through the notebook `8_NeuralNetworks.ipynb` in our GitHub repository. Try to understand what is going on there and run the code to train the model. \n",
    "2. Our accuracy is not so good on the test data. Try the following to improve the model:\n",
    "    - Increase the hidden layer size to 10 neurons, train the model and compare the accuracy on the test data.\n",
    "    - Add a second hidden layer with 5 neurons, train the model and compare the accuracy on the test data.\n",
    "3. Check if you can decrease the training loss even further if you train for more epochs. However, this can easily result in overfitting. To check that, calculate the accuracy on the test data already during training after each epoch. Show the plot the results as a second plot similiar to the one above. (Note: Normally we need to do this check on seperate validation data, not on our test data).\n",
    "4. Take the titanic data set and try to train a neural network on it. Use only the label `Survived` and the features `Pclass`, `Age`, `Sibsp`, `Parch` and `Fare`. Drop all N/As before training."
   ]
  }
 ],
 "metadata": {
  "colab": {
   "authorship_tag": "ABX9TyNB7ogddopYqmFoUzkoa6YX",
   "collapsed_sections": [],
   "include_colab_link": true,
   "name": "4_PyTorch_Example.ipynb",
   "provenance": []
  },
  "kernelspec": {
   "display_name": "Python 3 (ipykernel)",
   "language": "python",
   "name": "python3"
  },
  "language_info": {
   "codemirror_mode": {
    "name": "ipython",
    "version": 3
   },
   "file_extension": ".py",
   "mimetype": "text/x-python",
   "name": "python",
   "nbconvert_exporter": "python",
   "pygments_lexer": "ipython3",
   "version": "3.8.15"
  }
 },
 "nbformat": 4,
 "nbformat_minor": 1
}
