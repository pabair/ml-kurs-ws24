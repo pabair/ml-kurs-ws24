{
 "cells": [
  {
   "cell_type": "markdown",
   "metadata": {
    "id": "TOBUyiZq3d2u"
   },
   "source": [
    "# Praktische Übung 6: Neural Networks - Lösung\n"
   ]
  },
  {
   "cell_type": "markdown",
   "metadata": {
    "id": "LhdvnPe4Q-pO"
   },
   "source": [
    "### 0. Preamble"
   ]
  },
  {
   "cell_type": "code",
   "execution_count": 6,
   "metadata": {
    "id": "K8-YOrlu3w8z"
   },
   "outputs": [],
   "source": [
    "import numpy as np\n",
    "import torch\n",
    "import torch.nn.functional as F\n",
    "import torch.nn as nn\n",
    "import matplotlib.pyplot as plt\n",
    "\n",
    "torch.manual_seed(1)\n",
    "np.random.seed(1)"
   ]
  },
  {
   "cell_type": "markdown",
   "metadata": {},
   "source": [
    "The following lines checks for GPU availability on the machine and sets the GPU as processing device (if available). If you are on Google Colab you can enable GPU support in the menu via `Runtime > Change runtime type` and select `GPU` as hardware accelerator."
   ]
  },
  {
   "cell_type": "code",
   "execution_count": 7,
   "metadata": {
    "colab": {
     "base_uri": "https://localhost:8080/"
    },
    "id": "S3DgoJj735Gr",
    "outputId": "e56e337f-c44f-4bc3-c1ae-e532bb999356"
   },
   "outputs": [
    {
     "name": "stdout",
     "output_type": "stream",
     "text": [
      "No GPU available\n"
     ]
    },
    {
     "data": {
      "text/plain": [
       "device(type='cpu')"
      ]
     },
     "execution_count": 7,
     "metadata": {},
     "output_type": "execute_result"
    }
   ],
   "source": [
    "if(torch.cuda.is_available()):\n",
    "  processing_chip = \"cuda:0\"\n",
    "  print(f\"{torch.cuda.get_device_name(0)} available\")\n",
    "else:\n",
    "  processing_chip = \"cpu\"\n",
    "  print(\"No GPU available\")\n",
    "\n",
    "device = torch.device(processing_chip)\n",
    "device"
   ]
  },
  {
   "cell_type": "markdown",
   "metadata": {
    "id": "Y8EgmXccAr9b"
   },
   "source": [
    "### 1. Data Preperation"
   ]
  },
  {
   "cell_type": "markdown",
   "metadata": {},
   "source": [
    "We work with the already know digit dataset. For more details on the dataset, check our [previous](https://github.com/pabair/ml-kurs-ss21/blob/master/2_Logistische_Regression_Digits.ipynb) notebook.\n"
   ]
  },
  {
   "cell_type": "code",
   "execution_count": 8,
   "metadata": {
    "id": "DZoYUZfQ_TU8"
   },
   "outputs": [],
   "source": [
    "from sklearn.datasets import load_digits\n",
    "data, labels = load_digits(return_X_y = True)"
   ]
  },
  {
   "cell_type": "code",
   "execution_count": 9,
   "metadata": {
    "id": "KfY2iF0WTlWu"
   },
   "outputs": [],
   "source": [
    "from sklearn.model_selection import train_test_split\n",
    "train_X, test_X, train_y, test_y = train_test_split(data, labels, test_size=0.2, random_state=0)"
   ]
  },
  {
   "cell_type": "code",
   "execution_count": 10,
   "metadata": {
    "colab": {
     "base_uri": "https://localhost:8080/"
    },
    "id": "fQqdZZ16AHBe",
    "outputId": "75f7aff9-a647-4010-bafa-8141fc7aa46d"
   },
   "outputs": [
    {
     "data": {
      "text/plain": [
       "array([[ 0.,  0.,  0., ..., 16., 16.,  6.],\n",
       "       [ 0.,  3., 12., ..., 16.,  2.,  0.],\n",
       "       [ 0.,  1., 10., ...,  0.,  0.,  0.],\n",
       "       ...,\n",
       "       [ 0.,  0.,  5., ...,  0.,  0.,  0.],\n",
       "       [ 0.,  0.,  4., ...,  0.,  0.,  0.],\n",
       "       [ 0.,  0.,  6., ..., 11.,  0.,  0.]])"
      ]
     },
     "execution_count": 10,
     "metadata": {},
     "output_type": "execute_result"
    }
   ],
   "source": [
    "train_X"
   ]
  },
  {
   "cell_type": "markdown",
   "metadata": {},
   "source": [
    "To be able to use the data in PyTorch, we need to convert them into PyTorch tensors. Such a tensor can be thought of an efficient way to represent lists and matrices (similar to Numpy), with the additional benefit that they can be moved to the GPU (the .to(device) part in the code below) and that they support automatic backpropagation (more on this later):"
   ]
  },
  {
   "cell_type": "code",
   "execution_count": 11,
   "metadata": {},
   "outputs": [],
   "source": [
    "train_x = torch.Tensor(train_X).float().to(device)\n",
    "test_x = torch.Tensor(test_X).float().to(device)\n",
    "train_y =torch.Tensor(train_y).long().to(device)\n",
    "test_y = torch.Tensor(test_y).long().to(device)"
   ]
  },
  {
   "cell_type": "markdown",
   "metadata": {
    "id": "5wcTXnyu7NWK"
   },
   "source": [
    "### 2. Model definition \n"
   ]
  },
  {
   "cell_type": "markdown",
   "metadata": {},
   "source": [
    "We define now the strucutre of our neural network. For this we create a class that is a subclass from PyTorch's nn.Module. By convention we put in the `__init__` method the layers we want to use in the network and in the `forward` method how data flows through this network.\n",
    "\n",
    "Our network has 64 input features, one hidden layer with 5 neurons and 10 output neurons. The hidden layer uses a Relu activation function. Note that the output layer does not have a softmax activation (unlike we have seen it in the lecture). It rather gives out a raw score for each class (more on this later)."
   ]
  },
  {
   "cell_type": "code",
   "execution_count": 12,
   "metadata": {
    "id": "_W47oZ534E-1"
   },
   "outputs": [],
   "source": [
    "class Net(nn.Module):\n",
    "  def __init__(self):\n",
    "    super(Net, self).__init__()\n",
    "    self.hidden1 = nn.Linear(64, 10) # Task 1\n",
    "    self.hidden2 = nn.Linear(10, 5)  # Task 1\n",
    "    self.output = nn.Linear(5, 10)\n",
    "\n",
    "  def forward(self, x):\n",
    "    z = F.relu(self.hidden1(x))\n",
    "    z = F.relu(self.hidden2(z)) # Task 1\n",
    "    z = self.output(z)  # no softmax. see CrossEntropyLoss() \n",
    "    return z"
   ]
  },
  {
   "cell_type": "markdown",
   "metadata": {
    "id": "gJyy5JG_84vs"
   },
   "source": [
    "### 3. Model Training"
   ]
  },
  {
   "cell_type": "markdown",
   "metadata": {},
   "source": [
    "We can now start training our network. We run several epochs in which we first predict on the training data with our network and than backpropagate the loss. For this we use PyTorch's build-in optimizer that runs gradient descent on the weights of the network. Hence, in every episode we reduce the loss on the training data and improve our network.\n",
    "\n",
    "As loss function we use cross entropy, which consumes the raw scores from the prediction and internally applies a softmax (that is why we do not need the softmax as last layer in the network).\n",
    "\n",
    "Note that all training data is passed at once to our network (line `net(train_x)` ), since PyTorch will predict on all data points in parallel."
   ]
  },
  {
   "cell_type": "code",
   "execution_count": 13,
   "metadata": {},
   "outputs": [
    {
     "data": {
      "text/plain": [
       "Net(\n",
       "  (hidden1): Linear(in_features=64, out_features=10, bias=True)\n",
       "  (hidden2): Linear(in_features=10, out_features=5, bias=True)\n",
       "  (output): Linear(in_features=5, out_features=10, bias=True)\n",
       ")"
      ]
     },
     "execution_count": 13,
     "metadata": {},
     "output_type": "execute_result"
    }
   ],
   "source": [
    "# create network, move it to device and set it to training-mode\n",
    "net = Net().to(device)\n",
    "net.train()"
   ]
  },
  {
   "cell_type": "code",
   "execution_count": 14,
   "metadata": {
    "colab": {
     "base_uri": "https://localhost:8080/"
    },
    "id": "7RQHZvvyAFzV",
    "outputId": "85c7caef-49ee-443f-d052-30af1758c4a2"
   },
   "outputs": [
    {
     "name": "stdout",
     "output_type": "stream",
     "text": [
      "\n",
      "Starting training \n",
      "Loss in epoch 0 is 2.768087387084961\n",
      "Loss in epoch 100 is 1.8456432819366455\n",
      "Loss in epoch 200 is 1.5123116970062256\n",
      "Loss in epoch 300 is 1.283310890197754\n",
      "Loss in epoch 400 is 1.1420927047729492\n",
      "Loss in epoch 500 is 0.9864490032196045\n",
      "Loss in epoch 600 is 0.7818665504455566\n",
      "Loss in epoch 700 is 0.6709215641021729\n",
      "Loss in epoch 800 is 0.5803942084312439\n",
      "Loss in epoch 900 is 0.49726438522338867\n",
      "Loss in epoch 1000 is 0.43045711517333984\n",
      "Loss in epoch 1100 is 0.37476661801338196\n",
      "Loss in epoch 1200 is 0.31909793615341187\n",
      "Loss in epoch 1300 is 0.2646676003932953\n",
      "Loss in epoch 1400 is 0.22832657396793365\n",
      "Loss in epoch 1500 is 0.2040201872587204\n",
      "Loss in epoch 1600 is 0.18582206964492798\n",
      "Loss in epoch 1700 is 0.1713501662015915\n",
      "Loss in epoch 1800 is 0.1593327820301056\n",
      "Loss in epoch 1900 is 0.1490943729877472\n",
      "Loss in epoch 2000 is 0.14020612835884094\n",
      "Loss in epoch 2100 is 0.13237500190734863\n",
      "Loss in epoch 2200 is 0.12521709501743317\n",
      "Loss in epoch 2300 is 0.11873909831047058\n",
      "Loss in epoch 2400 is 0.11281994730234146\n",
      "Loss in epoch 2500 is 0.10742546617984772\n",
      "Loss in epoch 2600 is 0.1024494394659996\n",
      "Loss in epoch 2700 is 0.0978005975484848\n",
      "Loss in epoch 2800 is 0.09344502538442612\n",
      "Loss in epoch 2900 is 0.0893808975815773\n",
      "Loss in epoch 3000 is 0.08558592200279236\n",
      "Loss in epoch 3100 is 0.0819644182920456\n",
      "Loss in epoch 3200 is 0.0785675123333931\n",
      "Loss in epoch 3300 is 0.0754433423280716\n",
      "Loss in epoch 3400 is 0.07253663241863251\n",
      "Loss in epoch 3500 is 0.06982453912496567\n",
      "Loss in epoch 3600 is 0.06718837469816208\n",
      "Loss in epoch 3700 is 0.06472820788621902\n",
      "Loss in epoch 3800 is 0.06242438033223152\n",
      "Loss in epoch 3900 is 0.06027395650744438\n",
      "Loss in epoch 4000 is 0.058244772255420685\n",
      "Loss in epoch 4100 is 0.0563267320394516\n",
      "Loss in epoch 4200 is 0.05450655147433281\n",
      "Loss in epoch 4300 is 0.05278071016073227\n",
      "Loss in epoch 4400 is 0.0511343739926815\n",
      "Loss in epoch 4500 is 0.049585629254579544\n",
      "Loss in epoch 4600 is 0.048092179000377655\n",
      "Loss in epoch 4700 is 0.04666129872202873\n",
      "Loss in epoch 4800 is 0.0452895350754261\n",
      "Loss in epoch 4900 is 0.043981313705444336\n",
      "Loss in epoch 5000 is 0.042675964534282684\n",
      "Loss in epoch 5100 is 0.041429318487644196\n",
      "Loss in epoch 5200 is 0.040103472769260406\n",
      "Loss in epoch 5300 is 0.038659997284412384\n",
      "Loss in epoch 5400 is 0.03732782229781151\n",
      "Loss in epoch 5500 is 0.0360214039683342\n",
      "Loss in epoch 5600 is 0.03480074927210808\n",
      "Loss in epoch 5700 is 0.03364453464746475\n",
      "Loss in epoch 5800 is 0.03254846855998039\n",
      "Loss in epoch 5900 is 0.03150429576635361\n",
      "Loss in epoch 6000 is 0.03050895407795906\n",
      "Loss in epoch 6100 is 0.029558036476373672\n",
      "Loss in epoch 6200 is 0.028647471219301224\n",
      "Loss in epoch 6300 is 0.02776939980685711\n",
      "Loss in epoch 6400 is 0.026930809020996094\n",
      "Loss in epoch 6500 is 0.02611670270562172\n",
      "Loss in epoch 6600 is 0.02533714286983013\n",
      "Loss in epoch 6700 is 0.024585282430052757\n",
      "Loss in epoch 6800 is 0.023874422535300255\n",
      "Loss in epoch 6900 is 0.023182040080428123\n",
      "Loss in epoch 7000 is 0.022522972896695137\n",
      "Loss in epoch 7100 is 0.021889101713895798\n",
      "Loss in epoch 7200 is 0.021287288516759872\n",
      "Loss in epoch 7300 is 0.020694101229310036\n",
      "Loss in epoch 7400 is 0.020134031772613525\n",
      "Loss in epoch 7500 is 0.019581742584705353\n",
      "Loss in epoch 7600 is 0.0190598014742136\n",
      "Loss in epoch 7700 is 0.018558606505393982\n",
      "Loss in epoch 7800 is 0.018070388585329056\n",
      "Loss in epoch 7900 is 0.01760622300207615\n",
      "Loss in epoch 8000 is 0.017155474051833153\n",
      "Loss in epoch 8100 is 0.016724206507205963\n",
      "Loss in epoch 8200 is 0.0163045022636652\n",
      "Loss in epoch 8300 is 0.015903212130069733\n",
      "Loss in epoch 8400 is 0.015516646206378937\n",
      "Loss in epoch 8500 is 0.015141594223678112\n",
      "Loss in epoch 8600 is 0.014780862256884575\n",
      "Loss in epoch 8700 is 0.014428670518100262\n",
      "Loss in epoch 8800 is 0.014087417162954807\n",
      "Loss in epoch 8900 is 0.013760420493781567\n",
      "Loss in epoch 9000 is 0.013441070914268494\n",
      "Loss in epoch 9100 is 0.013132987543940544\n",
      "Loss in epoch 9200 is 0.012836160138249397\n",
      "Loss in epoch 9300 is 0.01255044061690569\n",
      "Loss in epoch 9400 is 0.012275087647140026\n",
      "Loss in epoch 9500 is 0.012006578966975212\n",
      "Loss in epoch 9600 is 0.011748322285711765\n",
      "Loss in epoch 9700 is 0.011497022584080696\n",
      "Loss in epoch 9800 is 0.0112541439011693\n",
      "Loss in epoch 9900 is 0.011020567268133163\n",
      "Done training \n"
     ]
    }
   ],
   "source": [
    "# create network, move it to device and set it to training-mode\n",
    "net = Net().to(device)\n",
    "net.train()\n",
    "\n",
    "# define the parameters for training\n",
    "no_epochs = 10000\n",
    "learning_rate = 0.01\n",
    "loss_func = nn.CrossEntropyLoss()  # applies softmax() internally\n",
    "optimizer = torch.optim.SGD(net.parameters(), lr=learning_rate)\n",
    "\n",
    "print(\"\\nStarting training \")\n",
    "\n",
    "train_losses = []\n",
    "test_losses = []\n",
    "for epoch in range(0, no_epochs):\n",
    "\n",
    "  optimizer.zero_grad()\n",
    "  output = net(train_x)\n",
    "\n",
    "  loss = loss_func(output, train_y)\n",
    "  loss.backward()\n",
    "  optimizer.step()\n",
    "\n",
    "  y_hat_test = net(test_x)\n",
    "  loss_test = loss_func(y_hat_test, test_y)\n",
    "\n",
    "  train_losses.append(loss.item())\n",
    "  test_losses.append(loss_test.item())\n",
    "  \n",
    "  if epoch % 100 == 0:\n",
    "    print(f\"Loss in epoch {epoch} is {loss.item()}\")\n",
    "\n",
    "print(\"Done training \")"
   ]
  },
  {
   "cell_type": "code",
   "execution_count": 15,
   "metadata": {
    "colab": {
     "base_uri": "https://localhost:8080/",
     "height": 296
    },
    "id": "fMPxG1i873W7",
    "outputId": "8ed83937-f40a-4e0e-a259-e409fff8fc9e"
   },
   "outputs": [
    {
     "data": {
      "text/plain": [
       "Text(0, 0.5, 'loss')"
      ]
     },
     "execution_count": 15,
     "metadata": {},
     "output_type": "execute_result"
    },
    {
     "data": {
      "image/png": "[encoded data removed]",
      "text/plain": [
       "<Figure size 640x480 with 1 Axes>"
      ]
     },
     "metadata": {},
     "output_type": "display_data"
    }
   ],
   "source": [
    "fig = plt.figure()\n",
    "plt.plot(range(0, no_epochs), train_losses, color='blue')\n",
    "plt.plot(range(0, no_epochs), test_losses, color='red')\n",
    "plt.legend(['Train Loss', \"Test Loss\"], loc='upper right')\n",
    "plt.xlabel('number of epochs')\n",
    "plt.ylabel('loss')"
   ]
  },
  {
   "cell_type": "markdown",
   "metadata": {
    "id": "cN8btFSP3yU2"
   },
   "source": [
    "### 4. Model Evaluation"
   ]
  },
  {
   "cell_type": "markdown",
   "metadata": {},
   "source": [
    "Finally, we check the model accuracy on the test data. For this we predict on the test data, identify the class with the highest score and compare it to the true label."
   ]
  },
  {
   "cell_type": "code",
   "execution_count": 16,
   "metadata": {
    "colab": {
     "base_uri": "https://localhost:8080/"
    },
    "id": "wsmVfo49Kytp",
    "outputId": "73bdda50-20d6-41e3-bb45-ce40c114f6fc"
   },
   "outputs": [
    {
     "name": "stdout",
     "output_type": "stream",
     "text": [
      "Accuracy is 91.38888888888889%\n"
     ]
    }
   ],
   "source": [
    "net.eval() # set network to evaluation mode\n",
    "y_pred = net(test_x)\n",
    "_, predicted = torch.max(y_pred.data, 1)\n",
    "correct = (predicted == test_y).sum().item()\n",
    "print(f\"Accuracy is {100. * correct / len(test_x)}%\")"
   ]
  },
  {
   "cell_type": "markdown",
   "metadata": {},
   "source": [
    "### 5. Tasks"
   ]
  },
  {
   "cell_type": "markdown",
   "metadata": {},
   "source": [
    "1. Our accuracy is not so good on the test data. Try the following to improve the model:\n",
    "    - Increase the hidden layer size to 10 neurons, train the model and compare the accuracy on the test data.\n",
    "    - Add a second hidden layer with 5 neurons, train the model and compare the accuracy on the test data.\n",
    "2. Check if you can decrease the training loss even further if you train for more epochs. However, this can easily result in overfitting. To check that, calculate the accuracy on the test data already during training after each epoch. Show the plot the results as a second plot similiar to the one above. (Note: Normally we need to do this check on seperate validation data, not on our test data).\n",
    "3. Take the titanic data set and try to train a neural network on it."
   ]
  },
  {
   "cell_type": "markdown",
   "metadata": {},
   "source": [
    "### Solutions:\n",
    "1. Accuracy can be improved to 91%. See code changes above.\n",
    "2. We can see that test loss does not get better after 2000 epochs"
   ]
  },
  {
   "cell_type": "markdown",
   "metadata": {},
   "source": [
    "#### Task 3: Titanic data"
   ]
  },
  {
   "cell_type": "code",
   "execution_count": 17,
   "metadata": {},
   "outputs": [],
   "source": [
    "import pandas as pd\n",
    "df = pd.read_csv(\"../data/titanic.csv\")\n",
    "df_selection = df[[\"Survived\", \"Pclass\", \"Age\", \"SibSp\", \"Parch\", \"Fare\"]]\n",
    "df_selection = df_selection.dropna()"
   ]
  },
  {
   "cell_type": "code",
   "execution_count": 18,
   "metadata": {},
   "outputs": [],
   "source": [
    "df_X = df_selection.drop(columns = [\"Survived\"]).values\n",
    "df_y = df_selection[\"Survived\"].values\n",
    "train_x, test_x, train_y, test_y = train_test_split(df_X, df_y, test_size=0.2, random_state=0)"
   ]
  },
  {
   "cell_type": "markdown",
   "metadata": {},
   "source": [
    "What is important above is that we transform the Pandas objects into numpy nd-arrays by applying the `.values`, because PyTorch does not really like to create tensors out of Pandas DataFrames or Series."
   ]
  },
  {
   "cell_type": "code",
   "execution_count": 19,
   "metadata": {},
   "outputs": [],
   "source": [
    "train_x = torch.Tensor(train_x).float().to(device)\n",
    "test_x = torch.Tensor(test_x).float().to(device)\n",
    "train_y = torch.Tensor(train_y).long().to(device)\n",
    "test_y = torch.Tensor(test_y).long().to(device)"
   ]
  },
  {
   "cell_type": "code",
   "execution_count": 20,
   "metadata": {},
   "outputs": [],
   "source": [
    "class TitanicNet(nn.Module):\n",
    "  def __init__(self):\n",
    "    super(TitanicNet, self).__init__()\n",
    "    self.hidden = nn.Linear(5, 10)\n",
    "    self.output = nn.Linear(10, 2)\n",
    "\n",
    "  def forward(self, x):\n",
    "    z = F.relu(self.hidden(x))\n",
    "    z = self.output(z)  # no softmax. see CrossEntropyLoss() \n",
    "    return z"
   ]
  },
  {
   "cell_type": "code",
   "execution_count": 21,
   "metadata": {},
   "outputs": [
    {
     "name": "stdout",
     "output_type": "stream",
     "text": [
      "\n",
      "Starting training \n",
      "Loss in epoch 0 is 1.4843827486038208\n",
      "Loss in epoch 100 is 0.5951008200645447\n",
      "Loss in epoch 200 is 0.5931856632232666\n",
      "Loss in epoch 300 is 0.590631365776062\n",
      "Loss in epoch 400 is 0.589588463306427\n",
      "Loss in epoch 500 is 0.5888893604278564\n",
      "Loss in epoch 600 is 0.5881948471069336\n",
      "Loss in epoch 700 is 0.5873886942863464\n",
      "Loss in epoch 800 is 0.5867961645126343\n",
      "Loss in epoch 900 is 0.5856370329856873\n",
      "Loss in epoch 1000 is 0.5846630334854126\n",
      "Loss in epoch 1100 is 0.5851458311080933\n",
      "Loss in epoch 1200 is 0.5833575129508972\n",
      "Loss in epoch 1300 is 0.5823001265525818\n",
      "Loss in epoch 1400 is 0.5815120339393616\n",
      "Loss in epoch 1500 is 0.5794333219528198\n",
      "Loss in epoch 1600 is 0.5772809982299805\n",
      "Loss in epoch 1700 is 0.5781024694442749\n",
      "Loss in epoch 1800 is 0.5773065090179443\n",
      "Loss in epoch 1900 is 0.5788525342941284\n",
      "Loss in epoch 2000 is 0.5769110918045044\n",
      "Loss in epoch 2100 is 0.5760592818260193\n",
      "Loss in epoch 2200 is 0.5760486721992493\n",
      "Loss in epoch 2300 is 0.5745189189910889\n",
      "Loss in epoch 2400 is 0.5740619897842407\n",
      "Loss in epoch 2500 is 0.5749543309211731\n",
      "Loss in epoch 2600 is 0.5728757977485657\n",
      "Loss in epoch 2700 is 0.5745682120323181\n",
      "Loss in epoch 2800 is 0.5763868093490601\n",
      "Loss in epoch 2900 is 0.5742425918579102\n",
      "Loss in epoch 3000 is 0.5716882944107056\n",
      "Loss in epoch 3100 is 0.5701765418052673\n",
      "Loss in epoch 3200 is 0.5698703527450562\n",
      "Loss in epoch 3300 is 0.573992133140564\n",
      "Loss in epoch 3400 is 0.5739028453826904\n",
      "Loss in epoch 3500 is 0.5697616934776306\n",
      "Loss in epoch 3600 is 0.5696476101875305\n",
      "Loss in epoch 3700 is 0.5703786015510559\n",
      "Loss in epoch 3800 is 0.5690367221832275\n",
      "Loss in epoch 3900 is 0.568095326423645\n",
      "Loss in epoch 4000 is 0.5677320957183838\n",
      "Loss in epoch 4100 is 0.5674701929092407\n",
      "Loss in epoch 4200 is 0.5665528774261475\n",
      "Loss in epoch 4300 is 0.5667003989219666\n",
      "Loss in epoch 4400 is 0.5662267804145813\n",
      "Loss in epoch 4500 is 0.5657715201377869\n",
      "Loss in epoch 4600 is 0.5655730366706848\n",
      "Loss in epoch 4700 is 0.5651600360870361\n",
      "Loss in epoch 4800 is 0.564635157585144\n",
      "Loss in epoch 4900 is 0.5648869872093201\n",
      "Loss in epoch 5000 is 0.5637646317481995\n",
      "Loss in epoch 5100 is 0.5637967586517334\n",
      "Loss in epoch 5200 is 0.5632372498512268\n",
      "Loss in epoch 5300 is 0.5627481937408447\n",
      "Loss in epoch 5400 is 0.5631818175315857\n",
      "Loss in epoch 5500 is 0.5621249675750732\n",
      "Loss in epoch 5600 is 0.5621378421783447\n",
      "Loss in epoch 5700 is 0.5612940788269043\n",
      "Loss in epoch 5800 is 0.561692476272583\n",
      "Loss in epoch 5900 is 0.5612034797668457\n",
      "Loss in epoch 6000 is 0.5608140826225281\n",
      "Loss in epoch 6100 is 0.5607923269271851\n",
      "Loss in epoch 6200 is 0.5599642992019653\n",
      "Loss in epoch 6300 is 0.5599256157875061\n",
      "Loss in epoch 6400 is 0.5598912835121155\n",
      "Loss in epoch 6500 is 0.5595207810401917\n",
      "Loss in epoch 6600 is 0.5593031644821167\n",
      "Loss in epoch 6700 is 0.5594024658203125\n",
      "Loss in epoch 6800 is 0.5589401125907898\n",
      "Loss in epoch 6900 is 0.5590662956237793\n",
      "Loss in epoch 7000 is 0.5588366985321045\n",
      "Loss in epoch 7100 is 0.5583053827285767\n",
      "Loss in epoch 7200 is 0.5585055351257324\n",
      "Loss in epoch 7300 is 0.5584516525268555\n",
      "Loss in epoch 7400 is 0.557820200920105\n",
      "Loss in epoch 7500 is 0.5576949119567871\n",
      "Loss in epoch 7600 is 0.5576924681663513\n",
      "Loss in epoch 7700 is 0.5577778816223145\n",
      "Loss in epoch 7800 is 0.557309091091156\n",
      "Loss in epoch 7900 is 0.5570927262306213\n",
      "Loss in epoch 8000 is 0.5574871301651001\n",
      "Loss in epoch 8100 is 0.5570886731147766\n",
      "Loss in epoch 8200 is 0.5567862391471863\n",
      "Loss in epoch 8300 is 0.5567924380302429\n",
      "Loss in epoch 8400 is 0.556498646736145\n",
      "Loss in epoch 8500 is 0.5567014217376709\n",
      "Loss in epoch 8600 is 0.5563026666641235\n",
      "Loss in epoch 8700 is 0.556206464767456\n",
      "Loss in epoch 8800 is 0.5559942126274109\n",
      "Loss in epoch 8900 is 0.556135892868042\n",
      "Loss in epoch 9000 is 0.5558241009712219\n",
      "Loss in epoch 9100 is 0.5553304553031921\n",
      "Loss in epoch 9200 is 0.5551469922065735\n",
      "Loss in epoch 9300 is 0.5550874471664429\n",
      "Loss in epoch 9400 is 0.5550450086593628\n",
      "Loss in epoch 9500 is 0.5552286505699158\n",
      "Loss in epoch 9600 is 0.5546754002571106\n",
      "Loss in epoch 9700 is 0.5546696186065674\n",
      "Loss in epoch 9800 is 0.5545493960380554\n",
      "Loss in epoch 9900 is 0.5543453693389893\n",
      "Done training \n"
     ]
    }
   ],
   "source": [
    "net = TitanicNet().to(device)\n",
    "net.train()\n",
    "\n",
    "# define the parameters for training\n",
    "no_epochs = 10000\n",
    "learning_rate = 0.01\n",
    "loss_func = nn.CrossEntropyLoss()  # applies softmax() internally\n",
    "optimizer = torch.optim.SGD(net.parameters(), lr=learning_rate)\n",
    "\n",
    "print(\"\\nStarting training \")\n",
    "\n",
    "train_losses = []\n",
    "test_losses = []\n",
    "for epoch in range(0, no_epochs):\n",
    "\n",
    "  optimizer.zero_grad()\n",
    "  output = net(train_x)\n",
    "\n",
    "  loss = loss_func(output, train_y)\n",
    "  loss.backward()\n",
    "  optimizer.step()\n",
    "\n",
    "  y_test = net(test_x)\n",
    "  loss_test = loss_func(y_test, test_y)\n",
    "\n",
    "  train_losses.append(loss.item())\n",
    "  test_losses.append(loss_test.item())\n",
    "  \n",
    "  if epoch % 100 == 0:\n",
    "    print(f\"Loss in epoch {epoch} is {loss.item()}\")\n",
    "\n",
    "print(\"Done training \")"
   ]
  },
  {
   "cell_type": "code",
   "execution_count": 22,
   "metadata": {},
   "outputs": [
    {
     "data": {
      "text/plain": [
       "Text(0, 0.5, 'loss')"
      ]
     },
     "execution_count": 22,
     "metadata": {},
     "output_type": "execute_result"
    },
    {
     "data": {
      "image/png": "[encoded data removed]",
      "text/plain": [
       "<Figure size 640x480 with 1 Axes>"
      ]
     },
     "metadata": {},
     "output_type": "display_data"
    }
   ],
   "source": [
    "fig = plt.figure()\n",
    "plt.plot(range(0, no_epochs), train_losses, color='blue')\n",
    "plt.plot(range(0, no_epochs), test_losses, color='red')\n",
    "plt.legend(['Train Loss', \"Test Loss\"], loc='upper right')\n",
    "plt.xlabel('number of epochs')\n",
    "plt.ylabel('loss')"
   ]
  },
  {
   "cell_type": "code",
   "execution_count": 23,
   "metadata": {},
   "outputs": [
    {
     "name": "stdout",
     "output_type": "stream",
     "text": [
      "Accuracy is 68.53146853146853%\n"
     ]
    }
   ],
   "source": [
    "y_pred = net(test_x)\n",
    "_, predicted = torch.max(y_pred.data, 1)\n",
    "correct = (predicted == test_y).sum().item()\n",
    "print(f\"Accuracy is {100. * correct / len(test_x)}%\")"
   ]
  },
  {
   "cell_type": "code",
   "execution_count": null,
   "metadata": {},
   "outputs": [],
   "source": []
  }
 ],
 "metadata": {
  "colab": {
   "authorship_tag": "ABX9TyNB7ogddopYqmFoUzkoa6YX",
   "collapsed_sections": [],
   "include_colab_link": true,
   "name": "4_PyTorch_Example.ipynb",
   "provenance": []
  },
  "kernelspec": {
   "display_name": "ml-course",
   "language": "python",
   "name": "python3"
  },
  "language_info": {
   "codemirror_mode": {
    "name": "ipython",
    "version": 3
   },
   "file_extension": ".py",
   "mimetype": "text/x-python",
   "name": "python",
   "nbconvert_exporter": "python",
   "pygments_lexer": "ipython3",
   "version": "3.8.19"
  }
 },
 "nbformat": 4,
 "nbformat_minor": 1
}
